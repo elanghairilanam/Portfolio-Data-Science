{
  "nbformat": 4,
  "nbformat_minor": 0,
  "metadata": {
    "colab": {
      "provenance": [],
      "authorship_tag": "ABX9TyMKIcBsNE6zA4NWMh0igpAz",
      "include_colab_link": true
    },
    "kernelspec": {
      "name": "python3",
      "display_name": "Python 3"
    },
    "language_info": {
      "name": "python"
    }
  },
  "cells": [
    {
      "cell_type": "markdown",
      "metadata": {
        "id": "view-in-github",
        "colab_type": "text"
      },
      "source": [
        "<a href=\"https://colab.research.google.com/github/elanghairilanam/Portfolio-Data-Science/blob/main/Hypothesis%20Testing.ipynb\" target=\"_parent\"><img src=\"https://colab.research.google.com/assets/colab-badge.svg\" alt=\"Open In Colab\"/></a>"
      ]
    },
    {
      "cell_type": "code",
      "source": [
        "import numpy as np\n",
        "import pandas as pd\n",
        "import seaborn as sns\n",
        "import matplotlib.pyplot as plt"
      ],
      "metadata": {
        "id": "7Zn7dfL6wDWW"
      },
      "execution_count": 2,
      "outputs": []
    },
    {
      "cell_type": "code",
      "source": [
        "#Mean Difference Testing"
      ],
      "metadata": {
        "id": "YXr_yb9GoeCm"
      },
      "execution_count": 41,
      "outputs": []
    },
    {
      "cell_type": "code",
      "source": [
        "nilai = [74,49,68,86,80,71,77,81,72,77]"
      ],
      "metadata": {
        "id": "ATVDkC8lboLs"
      },
      "execution_count": 39,
      "outputs": []
    },
    {
      "cell_type": "code",
      "source": [
        "x_bar = np.mean(nilai)\n",
        "mu = 80\n",
        "s = np.std(nilai, ddof = 1)\n",
        "n = len(nilai)\n",
        "\n",
        "t_stats = (x_bar - mu) / (s / np.sqrt(n))\n",
        "\n",
        "print(t_stats)"
      ],
      "metadata": {
        "colab": {
          "base_uri": "https://localhost:8080/"
        },
        "id": "kxk-1OIfb6PL",
        "outputId": "79350bf8-9756-4351-ed1b-408d3c04000a"
      },
      "execution_count": 17,
      "outputs": [
        {
          "output_type": "stream",
          "name": "stdout",
          "text": [
            "-2.0346749160869684\n"
          ]
        }
      ]
    },
    {
      "cell_type": "code",
      "source": [
        "from scipy.stats import t\n",
        "\n",
        "t.ppf(0.05, n - 1)"
      ],
      "metadata": {
        "colab": {
          "base_uri": "https://localhost:8080/"
        },
        "id": "HTigFSnAcbbF",
        "outputId": "46a00530-22f3-42a8-8d02-b5bc8f029c50"
      },
      "execution_count": 18,
      "outputs": [
        {
          "output_type": "execute_result",
          "data": {
            "text/plain": [
              "-1.8331129326536337"
            ]
          },
          "metadata": {},
          "execution_count": 18
        }
      ]
    },
    {
      "cell_type": "code",
      "source": [
        "from scipy.stats import ttest_1samp\n",
        "\n",
        "t_stats, p_value = ttest_1samp(nilai, 80)\n",
        "\n",
        "t_stats"
      ],
      "metadata": {
        "colab": {
          "base_uri": "https://localhost:8080/"
        },
        "id": "Ltcr7NUJdJKo",
        "outputId": "859ef71d-abb1-469e-cc26-dc2af71f8394"
      },
      "execution_count": 22,
      "outputs": [
        {
          "output_type": "execute_result",
          "data": {
            "text/plain": [
              "-2.0346749160869684"
            ]
          },
          "metadata": {},
          "execution_count": 22
        }
      ]
    },
    {
      "cell_type": "code",
      "source": [
        "#Independent Population Testing"
      ],
      "metadata": {
        "id": "fO3BLPSuoppn"
      },
      "execution_count": 43,
      "outputs": []
    },
    {
      "cell_type": "code",
      "execution_count": 40,
      "metadata": {
        "id": "dVEMPNO8vGeX"
      },
      "outputs": [],
      "source": [
        "kelas_1 = [74,49,68,86,80,71,77,81,72,77]\n",
        "\n",
        "kelas_2 = [78,57,65,82,73,76,54,58]"
      ]
    },
    {
      "cell_type": "code",
      "source": [
        "x_bar1 = np.mean(kelas_1)\n",
        "s1 = np.std(kelas_1, ddof = 1)\n",
        "n1 = len(kelas_1)\n",
        "\n",
        "x_bar2 = np.mean(kelas_2)\n",
        "s2 = np.std(kelas_2, ddof = 1)\n",
        "n2 = len(kelas_2)"
      ],
      "metadata": {
        "id": "HA_X2I88vZzp"
      },
      "execution_count": 4,
      "outputs": []
    },
    {
      "cell_type": "code",
      "source": [
        "print(f\"Standar deviasi kelas 1 : {s1}\")\n",
        "print(f\"Standar deviasi kelas 2 : {s2}\")"
      ],
      "metadata": {
        "colab": {
          "base_uri": "https://localhost:8080/"
        },
        "id": "kdT-VWomT3cE",
        "outputId": "e0220034-5b15-44a3-ab3f-1c41cc792689"
      },
      "execution_count": 6,
      "outputs": [
        {
          "output_type": "stream",
          "name": "stdout",
          "text": [
            "Standar deviasi kelas 1 : 10.102254973794492\n",
            "Standar deviasi kelas 2 : 10.76286605483343\n"
          ]
        }
      ]
    },
    {
      "cell_type": "code",
      "source": [
        "df = n1 + n2 - 2\n",
        "sp = np.sqrt(((n1 - 1) * np.power(s1,2) + (n2 - 1) * np.power(s2,2)) / df )"
      ],
      "metadata": {
        "id": "yRhVCY-qUbD1"
      },
      "execution_count": 7,
      "outputs": []
    },
    {
      "cell_type": "code",
      "source": [
        "t_stat = (x_bar1 - x_bar2) / (sp * np.sqrt(1 / n1 + 1 / n2))\n",
        "\n",
        "print(t_stat)"
      ],
      "metadata": {
        "colab": {
          "base_uri": "https://localhost:8080/"
        },
        "id": "PSZR8Vcjwksg",
        "outputId": "b2ee2d3a-e35c-40f2-b05e-c4ced5954db4"
      },
      "execution_count": 9,
      "outputs": [
        {
          "output_type": "stream",
          "name": "stdout",
          "text": [
            "1.140634940065406\n"
          ]
        }
      ]
    },
    {
      "cell_type": "code",
      "source": [
        "from scipy.stats import ttest_ind"
      ],
      "metadata": {
        "id": "5jSsfqIIVV_h"
      },
      "execution_count": 10,
      "outputs": []
    },
    {
      "cell_type": "code",
      "source": [
        "t_stat, p_value = ttest_ind(kelas_1, kelas_2, equal_var = True)"
      ],
      "metadata": {
        "id": "UAvaHzMzVzJ5"
      },
      "execution_count": 11,
      "outputs": []
    },
    {
      "cell_type": "code",
      "source": [
        "if p_value < 0.05:\n",
        "  print(\"Nilai kelas 1 dan 2 berbeda\")\n",
        "else:\n",
        "    print(\"Nilai kelas 1 dan 2 sama\")"
      ],
      "metadata": {
        "colab": {
          "base_uri": "https://localhost:8080/"
        },
        "id": "CdS1LvUEWF7Y",
        "outputId": "d1fa91dc-0b94-4d6d-a481-1ec004f42e6a"
      },
      "execution_count": 15,
      "outputs": [
        {
          "output_type": "stream",
          "name": "stdout",
          "text": [
            "Nilai kelas 1 dan 2 sama\n"
          ]
        }
      ]
    },
    {
      "cell_type": "code",
      "source": [
        "#Uji T Berpasangan"
      ],
      "metadata": {
        "id": "RDwdpaaapACu"
      },
      "execution_count": 44,
      "outputs": []
    },
    {
      "cell_type": "code",
      "source": [
        "sebelum = [59,71,64,75,75,61,52,66,71,69]\n",
        "sesudah = [98,91,86,72,77,54,69,89,66,87]"
      ],
      "metadata": {
        "id": "J1AfgpmIfKjp"
      },
      "execution_count": 23,
      "outputs": []
    },
    {
      "cell_type": "code",
      "source": [
        "beda = np.array(sesudah) - np.array(sebelum)\n",
        "x_beda = np.mean(beda)\n",
        "sd = np.std(beda, ddof = 1)\n",
        "n = len(beda)\n",
        "mu = 0"
      ],
      "metadata": {
        "id": "9QUG6WqsfqSZ"
      },
      "execution_count": 24,
      "outputs": []
    },
    {
      "cell_type": "code",
      "source": [
        "t_stats = (x_beda - mu) / (sd / np.sqrt(n))"
      ],
      "metadata": {
        "id": "vxsDSBpjgM_Z"
      },
      "execution_count": 25,
      "outputs": []
    },
    {
      "cell_type": "code",
      "source": [
        "t_stats"
      ],
      "metadata": {
        "colab": {
          "base_uri": "https://localhost:8080/"
        },
        "id": "j3VQQCShghZg",
        "outputId": "96f207ed-edbb-4e0c-9bee-3cfcd1ea871d"
      },
      "execution_count": 26,
      "outputs": [
        {
          "output_type": "execute_result",
          "data": {
            "text/plain": [
              "2.6423876827871844"
            ]
          },
          "metadata": {},
          "execution_count": 26
        }
      ]
    },
    {
      "cell_type": "code",
      "source": [
        "from scipy.stats import ttest_rel"
      ],
      "metadata": {
        "id": "3JA2cCIkgkea"
      },
      "execution_count": 27,
      "outputs": []
    },
    {
      "cell_type": "code",
      "source": [
        "t_stats, p_value = ttest_rel(sesudah, sebelum)"
      ],
      "metadata": {
        "id": "MtJ8-JY1gwcn"
      },
      "execution_count": 28,
      "outputs": []
    },
    {
      "cell_type": "code",
      "source": [
        "if p_value < 0.05:\n",
        "  print(\"Nilai sesudah berbeda dari nilai sebelum\")\n",
        "else:\n",
        "  print(\"Nilai sesudah sama dari nilai sebelum\")"
      ],
      "metadata": {
        "colab": {
          "base_uri": "https://localhost:8080/"
        },
        "id": "hYuUe0OLibEb",
        "outputId": "4e32cf9a-9805-4258-d42b-bd0d18deeee0"
      },
      "execution_count": 29,
      "outputs": [
        {
          "output_type": "stream",
          "name": "stdout",
          "text": [
            "Nilai sesudah berbeda dari nilai sebelum\n"
          ]
        }
      ]
    },
    {
      "cell_type": "code",
      "source": [
        "#Uji perbedaan proporsi"
      ],
      "metadata": {
        "id": "NPWlYeslpH-I"
      },
      "execution_count": null,
      "outputs": []
    },
    {
      "cell_type": "code",
      "source": [
        "perempuan_selamat = 233\n",
        "total_perempuan = 314\n",
        "laki_selamat = 109\n",
        "total_laki = 577"
      ],
      "metadata": {
        "id": "O7FXVZhtkNti"
      },
      "execution_count": 30,
      "outputs": []
    },
    {
      "cell_type": "code",
      "source": [
        "proporsi_perempuan = perempuan_selamat / total_perempuan\n",
        "proporsi_laki = laki_selamat / total_laki\n",
        "\n",
        "prop_gabungan = (perempuan_selamat + laki_selamat) / (total_perempuan + total_laki)"
      ],
      "metadata": {
        "id": "ls7x_6ExkgE0"
      },
      "execution_count": 31,
      "outputs": []
    },
    {
      "cell_type": "code",
      "source": [
        "t_stat = (proporsi_perempuan - proporsi_laki) / np.sqrt(prop_gabungan * (1 - prop_gabungan)\n",
        "\n",
        "* (1/total_perempuan + 1/total_laki))\n",
        "\n",
        "print(t_stat)"
      ],
      "metadata": {
        "colab": {
          "base_uri": "https://localhost:8080/"
        },
        "id": "l5F-TKA8lO-e",
        "outputId": "84add17d-8854-4ddc-a9d4-701d65e0ba59"
      },
      "execution_count": 34,
      "outputs": [
        {
          "output_type": "stream",
          "name": "stdout",
          "text": [
            "16.218833930670097\n"
          ]
        }
      ]
    },
    {
      "cell_type": "code",
      "source": [
        "from statsmodels.stats.proportion import proportions_ztest"
      ],
      "metadata": {
        "id": "fQJ9aczElhR6"
      },
      "execution_count": 35,
      "outputs": []
    },
    {
      "cell_type": "code",
      "source": [
        "proportions_ztest([perempuan_selamat, laki_selamat], [total_perempuan, total_laki])"
      ],
      "metadata": {
        "colab": {
          "base_uri": "https://localhost:8080/"
        },
        "id": "HGNLiaVPnAyr",
        "outputId": "46115ee5-dc1e-43e5-90a4-57b5cd24af11"
      },
      "execution_count": 38,
      "outputs": [
        {
          "output_type": "execute_result",
          "data": {
            "text/plain": [
              "(16.218833930670097, 3.7117477701134797e-59)"
            ]
          },
          "metadata": {},
          "execution_count": 38
        }
      ]
    }
  ]
}