{
  "nbformat": 4,
  "nbformat_minor": 0,
  "metadata": {
    "colab": {
      "provenance": [],
      "collapsed_sections": [
        "FiQZN6bfI1E9"
      ],
      "authorship_tag": "ABX9TyMXjp4sLtsHISoTwhv9nMzP",
      "include_colab_link": true
    },
    "kernelspec": {
      "name": "python3",
      "display_name": "Python 3"
    },
    "language_info": {
      "name": "python"
    }
  },
  "cells": [
    {
      "cell_type": "markdown",
      "metadata": {
        "id": "view-in-github",
        "colab_type": "text"
      },
      "source": [
        "<a href=\"https://colab.research.google.com/github/elanghairilanam/Portfolio-Data-Science/blob/main/Data_Cleaning_for_Data_Demografi_dan_Sosial.ipynb\" target=\"_parent\"><img src=\"https://colab.research.google.com/assets/colab-badge.svg\" alt=\"Open In Colab\"/></a>"
      ]
    },
    {
      "cell_type": "markdown",
      "source": [
        "# Import Data"
      ],
      "metadata": {
        "id": "FiQZN6bfI1E9"
      }
    },
    {
      "cell_type": "code",
      "execution_count": 31,
      "metadata": {
        "id": "bkj0CUrhIT1K"
      },
      "outputs": [],
      "source": [
        "import pandas as pd\n",
        "\n",
        "df_pendidikan = pd.read_excel(\"Tingkat Pendidikan.xlsx\")\n",
        "df_usia = pd.read_excel(\"Usia.xlsx\")\n",
        "df_ketenagakerjaan = pd.read_excel(\"ketenagakerjaan.xlsx\")"
      ]
    },
    {
      "cell_type": "markdown",
      "source": [
        "# Data Cleaning"
      ],
      "metadata": {
        "id": "kmNH3NSKlyu8"
      }
    },
    {
      "cell_type": "code",
      "source": [
        "# cek missing value\n",
        "\n",
        "df_usia.isna().sum()"
      ],
      "metadata": {
        "colab": {
          "base_uri": "https://localhost:8080/",
          "height": 335
        },
        "id": "2otWVtILl3n8",
        "outputId": "5309cbe8-d222-4d90-e297-b2a6adcd99b6"
      },
      "execution_count": 32,
      "outputs": [
        {
          "output_type": "execute_result",
          "data": {
            "text/plain": [
              "periode_data           0\n",
              "wilayah                0\n",
              "kecamatan              0\n",
              "kelompok_umur          0\n",
              "laki_laki              0\n",
              "perempuan              0\n",
              "jumlah_penduduk        0\n",
              "rasio_jenis_kelamin    0\n",
              "dtype: int64"
            ],
            "text/html": [
              "<div>\n",
              "<style scoped>\n",
              "    .dataframe tbody tr th:only-of-type {\n",
              "        vertical-align: middle;\n",
              "    }\n",
              "\n",
              "    .dataframe tbody tr th {\n",
              "        vertical-align: top;\n",
              "    }\n",
              "\n",
              "    .dataframe thead th {\n",
              "        text-align: right;\n",
              "    }\n",
              "</style>\n",
              "<table border=\"1\" class=\"dataframe\">\n",
              "  <thead>\n",
              "    <tr style=\"text-align: right;\">\n",
              "      <th></th>\n",
              "      <th>0</th>\n",
              "    </tr>\n",
              "  </thead>\n",
              "  <tbody>\n",
              "    <tr>\n",
              "      <th>periode_data</th>\n",
              "      <td>0</td>\n",
              "    </tr>\n",
              "    <tr>\n",
              "      <th>wilayah</th>\n",
              "      <td>0</td>\n",
              "    </tr>\n",
              "    <tr>\n",
              "      <th>kecamatan</th>\n",
              "      <td>0</td>\n",
              "    </tr>\n",
              "    <tr>\n",
              "      <th>kelompok_umur</th>\n",
              "      <td>0</td>\n",
              "    </tr>\n",
              "    <tr>\n",
              "      <th>laki_laki</th>\n",
              "      <td>0</td>\n",
              "    </tr>\n",
              "    <tr>\n",
              "      <th>perempuan</th>\n",
              "      <td>0</td>\n",
              "    </tr>\n",
              "    <tr>\n",
              "      <th>jumlah_penduduk</th>\n",
              "      <td>0</td>\n",
              "    </tr>\n",
              "    <tr>\n",
              "      <th>rasio_jenis_kelamin</th>\n",
              "      <td>0</td>\n",
              "    </tr>\n",
              "  </tbody>\n",
              "</table>\n",
              "</div><br><label><b>dtype:</b> int64</label>"
            ]
          },
          "metadata": {},
          "execution_count": 32
        }
      ]
    },
    {
      "cell_type": "code",
      "source": [
        "df_pendidikan.isna().sum()"
      ],
      "metadata": {
        "colab": {
          "base_uri": "https://localhost:8080/",
          "height": 366
        },
        "id": "JHqvyKZ5mES9",
        "outputId": "994c463e-5520-46cb-c840-1898371bb8e2"
      },
      "execution_count": 33,
      "outputs": [
        {
          "output_type": "execute_result",
          "data": {
            "text/plain": [
              "periode_data              0\n",
              "tahun                     0\n",
              "nama_provinsi             0\n",
              "nama_kabupaten_kota       0\n",
              "nama_kecamatan            0\n",
              "nama_kelaurahan           0\n",
              "pendidikan                0\n",
              "jenis_kelamin          2670\n",
              "jumlah_penduduk          14\n",
              "dtype: int64"
            ],
            "text/html": [
              "<div>\n",
              "<style scoped>\n",
              "    .dataframe tbody tr th:only-of-type {\n",
              "        vertical-align: middle;\n",
              "    }\n",
              "\n",
              "    .dataframe tbody tr th {\n",
              "        vertical-align: top;\n",
              "    }\n",
              "\n",
              "    .dataframe thead th {\n",
              "        text-align: right;\n",
              "    }\n",
              "</style>\n",
              "<table border=\"1\" class=\"dataframe\">\n",
              "  <thead>\n",
              "    <tr style=\"text-align: right;\">\n",
              "      <th></th>\n",
              "      <th>0</th>\n",
              "    </tr>\n",
              "  </thead>\n",
              "  <tbody>\n",
              "    <tr>\n",
              "      <th>periode_data</th>\n",
              "      <td>0</td>\n",
              "    </tr>\n",
              "    <tr>\n",
              "      <th>tahun</th>\n",
              "      <td>0</td>\n",
              "    </tr>\n",
              "    <tr>\n",
              "      <th>nama_provinsi</th>\n",
              "      <td>0</td>\n",
              "    </tr>\n",
              "    <tr>\n",
              "      <th>nama_kabupaten_kota</th>\n",
              "      <td>0</td>\n",
              "    </tr>\n",
              "    <tr>\n",
              "      <th>nama_kecamatan</th>\n",
              "      <td>0</td>\n",
              "    </tr>\n",
              "    <tr>\n",
              "      <th>nama_kelaurahan</th>\n",
              "      <td>0</td>\n",
              "    </tr>\n",
              "    <tr>\n",
              "      <th>pendidikan</th>\n",
              "      <td>0</td>\n",
              "    </tr>\n",
              "    <tr>\n",
              "      <th>jenis_kelamin</th>\n",
              "      <td>2670</td>\n",
              "    </tr>\n",
              "    <tr>\n",
              "      <th>jumlah_penduduk</th>\n",
              "      <td>14</td>\n",
              "    </tr>\n",
              "  </tbody>\n",
              "</table>\n",
              "</div><br><label><b>dtype:</b> int64</label>"
            ]
          },
          "metadata": {},
          "execution_count": 33
        }
      ]
    },
    {
      "cell_type": "code",
      "source": [
        "df_ketenagakerjaan.isna().sum()"
      ],
      "metadata": {
        "colab": {
          "base_uri": "https://localhost:8080/",
          "height": 178
        },
        "id": "NWSTjAv8mQeb",
        "outputId": "73f8bf76-85be-401b-f1d8-fe4622e6297b"
      },
      "execution_count": 34,
      "outputs": [
        {
          "output_type": "execute_result",
          "data": {
            "text/plain": [
              "periode_data               0\n",
              "keadaan_ketenagakerjaan    0\n",
              "jumlah                     0\n",
              "dtype: int64"
            ],
            "text/html": [
              "<div>\n",
              "<style scoped>\n",
              "    .dataframe tbody tr th:only-of-type {\n",
              "        vertical-align: middle;\n",
              "    }\n",
              "\n",
              "    .dataframe tbody tr th {\n",
              "        vertical-align: top;\n",
              "    }\n",
              "\n",
              "    .dataframe thead th {\n",
              "        text-align: right;\n",
              "    }\n",
              "</style>\n",
              "<table border=\"1\" class=\"dataframe\">\n",
              "  <thead>\n",
              "    <tr style=\"text-align: right;\">\n",
              "      <th></th>\n",
              "      <th>0</th>\n",
              "    </tr>\n",
              "  </thead>\n",
              "  <tbody>\n",
              "    <tr>\n",
              "      <th>periode_data</th>\n",
              "      <td>0</td>\n",
              "    </tr>\n",
              "    <tr>\n",
              "      <th>keadaan_ketenagakerjaan</th>\n",
              "      <td>0</td>\n",
              "    </tr>\n",
              "    <tr>\n",
              "      <th>jumlah</th>\n",
              "      <td>0</td>\n",
              "    </tr>\n",
              "  </tbody>\n",
              "</table>\n",
              "</div><br><label><b>dtype:</b> int64</label>"
            ]
          },
          "metadata": {},
          "execution_count": 34
        }
      ]
    },
    {
      "cell_type": "code",
      "source": [
        "#Handling missing value\n",
        "\n",
        "#Ditemukan bahwa di kolom jenis kelamin terdapat 2670 missing value\n",
        "\n",
        "#Karena jumlah missing value pada kolom jenis kelamin 20% terhadap data keseluruhan maka saya memutuskan untuk mengkategorikan nya menjadi \"Tidak Diketahui\"\n",
        "\n",
        "df_pendidikan[\"jenis_kelamin\"].fillna(\"Tidak Diketahui\", inplace=True)"
      ],
      "metadata": {
        "colab": {
          "base_uri": "https://localhost:8080/"
        },
        "id": "EtRHVgGzmUYM",
        "outputId": "9a2b3298-5e26-4c48-f5a5-eeacf4d1f9c5"
      },
      "execution_count": 35,
      "outputs": [
        {
          "output_type": "stream",
          "name": "stderr",
          "text": [
            "/tmp/ipython-input-4242100520.py:7: FutureWarning: A value is trying to be set on a copy of a DataFrame or Series through chained assignment using an inplace method.\n",
            "The behavior will change in pandas 3.0. This inplace method will never work because the intermediate object on which we are setting values always behaves as a copy.\n",
            "\n",
            "For example, when doing 'df[col].method(value, inplace=True)', try using 'df.method({col: value}, inplace=True)' or df[col] = df[col].method(value) instead, to perform the operation inplace on the original object.\n",
            "\n",
            "\n",
            "  df_pendidikan[\"jenis_kelamin\"].fillna(\"Tidak Diketahui\", inplace=True)\n"
          ]
        }
      ]
    },
    {
      "cell_type": "code",
      "source": [
        "# kita cek lagi missing value nya\n",
        "df_pendidikan.isna().sum()"
      ],
      "metadata": {
        "colab": {
          "base_uri": "https://localhost:8080/",
          "height": 366
        },
        "id": "SrT2Wld5q7pJ",
        "outputId": "ea8fc5ec-1dbc-48eb-cdd4-983f3e7dfcd0"
      },
      "execution_count": 36,
      "outputs": [
        {
          "output_type": "execute_result",
          "data": {
            "text/plain": [
              "periode_data            0\n",
              "tahun                   0\n",
              "nama_provinsi           0\n",
              "nama_kabupaten_kota     0\n",
              "nama_kecamatan          0\n",
              "nama_kelaurahan         0\n",
              "pendidikan              0\n",
              "jenis_kelamin           0\n",
              "jumlah_penduduk        14\n",
              "dtype: int64"
            ],
            "text/html": [
              "<div>\n",
              "<style scoped>\n",
              "    .dataframe tbody tr th:only-of-type {\n",
              "        vertical-align: middle;\n",
              "    }\n",
              "\n",
              "    .dataframe tbody tr th {\n",
              "        vertical-align: top;\n",
              "    }\n",
              "\n",
              "    .dataframe thead th {\n",
              "        text-align: right;\n",
              "    }\n",
              "</style>\n",
              "<table border=\"1\" class=\"dataframe\">\n",
              "  <thead>\n",
              "    <tr style=\"text-align: right;\">\n",
              "      <th></th>\n",
              "      <th>0</th>\n",
              "    </tr>\n",
              "  </thead>\n",
              "  <tbody>\n",
              "    <tr>\n",
              "      <th>periode_data</th>\n",
              "      <td>0</td>\n",
              "    </tr>\n",
              "    <tr>\n",
              "      <th>tahun</th>\n",
              "      <td>0</td>\n",
              "    </tr>\n",
              "    <tr>\n",
              "      <th>nama_provinsi</th>\n",
              "      <td>0</td>\n",
              "    </tr>\n",
              "    <tr>\n",
              "      <th>nama_kabupaten_kota</th>\n",
              "      <td>0</td>\n",
              "    </tr>\n",
              "    <tr>\n",
              "      <th>nama_kecamatan</th>\n",
              "      <td>0</td>\n",
              "    </tr>\n",
              "    <tr>\n",
              "      <th>nama_kelaurahan</th>\n",
              "      <td>0</td>\n",
              "    </tr>\n",
              "    <tr>\n",
              "      <th>pendidikan</th>\n",
              "      <td>0</td>\n",
              "    </tr>\n",
              "    <tr>\n",
              "      <th>jenis_kelamin</th>\n",
              "      <td>0</td>\n",
              "    </tr>\n",
              "    <tr>\n",
              "      <th>jumlah_penduduk</th>\n",
              "      <td>14</td>\n",
              "    </tr>\n",
              "  </tbody>\n",
              "</table>\n",
              "</div><br><label><b>dtype:</b> int64</label>"
            ]
          },
          "metadata": {},
          "execution_count": 36
        }
      ]
    },
    {
      "cell_type": "code",
      "source": [
        "# masih ada 14 missing value dan saya memutuskan untuk mengisi nya dengan rata2 jumlah penduduk berdasarkan kecamatan nya"
      ],
      "metadata": {
        "id": "C8AKC4HorCKR"
      },
      "execution_count": 37,
      "outputs": []
    },
    {
      "cell_type": "code",
      "source": [
        "#kita lihat type data dari df_pendidikan\n",
        "df_pendidikan.info()"
      ],
      "metadata": {
        "colab": {
          "base_uri": "https://localhost:8080/"
        },
        "id": "pfOi6tI8srMF",
        "outputId": "56ed5dd0-b51e-4787-d2d2-be0dfa1436b8"
      },
      "execution_count": 38,
      "outputs": [
        {
          "output_type": "stream",
          "name": "stdout",
          "text": [
            "<class 'pandas.core.frame.DataFrame'>\n",
            "RangeIndex: 13340 entries, 0 to 13339\n",
            "Data columns (total 9 columns):\n",
            " #   Column               Non-Null Count  Dtype \n",
            "---  ------               --------------  ----- \n",
            " 0   periode_data         13340 non-null  int64 \n",
            " 1   tahun                13340 non-null  int64 \n",
            " 2   nama_provinsi        13340 non-null  object\n",
            " 3   nama_kabupaten_kota  13340 non-null  object\n",
            " 4   nama_kecamatan       13340 non-null  object\n",
            " 5   nama_kelaurahan      13340 non-null  object\n",
            " 6   pendidikan           13340 non-null  object\n",
            " 7   jenis_kelamin        13340 non-null  object\n",
            " 8   jumlah_penduduk      13326 non-null  object\n",
            "dtypes: int64(2), object(7)\n",
            "memory usage: 938.1+ KB\n"
          ]
        }
      ]
    },
    {
      "cell_type": "code",
      "source": [
        "# Convert 'jumlah_penduduk' mejadi numeric\n",
        "df_pendidikan['jumlah_penduduk'] = pd.to_numeric(df_pendidikan['jumlah_penduduk'], errors='coerce')\n",
        "\n",
        "# isi nilai NaN menjadi 0\n",
        "df_pendidikan['jumlah_penduduk'] = df_pendidikan['jumlah_penduduk'].fillna(0)\n",
        "\n",
        "# Convert 'jumlah_penduduk' mejadi integer\n",
        "df_pendidikan['jumlah_penduduk'] = df_pendidikan['jumlah_penduduk'].astype(int)\n",
        "\n",
        "df_pendidikan.info()"
      ],
      "metadata": {
        "colab": {
          "base_uri": "https://localhost:8080/",
          "height": 312
        },
        "id": "9ywDwZGZveDL",
        "outputId": "56b3495e-8b3a-43f6-acea-3f8c4e738d96"
      },
      "execution_count": 39,
      "outputs": [
        {
          "output_type": "stream",
          "name": "stdout",
          "text": [
            "<class 'pandas.core.frame.DataFrame'>\n",
            "RangeIndex: 13340 entries, 0 to 13339\n",
            "Data columns (total 9 columns):\n",
            " #   Column               Non-Null Count  Dtype \n",
            "---  ------               --------------  ----- \n",
            " 0   periode_data         13340 non-null  int64 \n",
            " 1   tahun                13340 non-null  int64 \n",
            " 2   nama_provinsi        13340 non-null  object\n",
            " 3   nama_kabupaten_kota  13340 non-null  object\n",
            " 4   nama_kecamatan       13340 non-null  object\n",
            " 5   nama_kelaurahan      13340 non-null  object\n",
            " 6   pendidikan           13340 non-null  object\n",
            " 7   jenis_kelamin        13340 non-null  object\n",
            " 8   jumlah_penduduk      13340 non-null  int64 \n",
            "dtypes: int64(3), object(6)\n",
            "memory usage: 938.1+ KB\n"
          ]
        },
        {
          "output_type": "display_data",
          "data": {
            "text/plain": [
              "None"
            ]
          },
          "metadata": {}
        }
      ]
    },
    {
      "cell_type": "code",
      "source": [
        "#ubah data jumlah_penduduk yang nilai nya 0 dengan rata2 jumlah_penduduk berdasarkan nama_kecamatan\n",
        "df_pendidikan['jumlah_penduduk'] = df_pendidikan.groupby('nama_kecamatan')['jumlah_penduduk'].transform(lambda x: x.replace(0, x.mean()))"
      ],
      "metadata": {
        "id": "jgLy2Ie9wNZ8"
      },
      "execution_count": 40,
      "outputs": []
    },
    {
      "cell_type": "code",
      "source": [
        "df_pendidikan.isna().sum()"
      ],
      "metadata": {
        "colab": {
          "base_uri": "https://localhost:8080/",
          "height": 366
        },
        "id": "keJfKRUpwavj",
        "outputId": "3cb10ceb-9a52-4ecd-b16f-16160399a973"
      },
      "execution_count": 42,
      "outputs": [
        {
          "output_type": "execute_result",
          "data": {
            "text/plain": [
              "periode_data           0\n",
              "tahun                  0\n",
              "nama_provinsi          0\n",
              "nama_kabupaten_kota    0\n",
              "nama_kecamatan         0\n",
              "nama_kelaurahan        0\n",
              "pendidikan             0\n",
              "jenis_kelamin          0\n",
              "jumlah_penduduk        0\n",
              "dtype: int64"
            ],
            "text/html": [
              "<div>\n",
              "<style scoped>\n",
              "    .dataframe tbody tr th:only-of-type {\n",
              "        vertical-align: middle;\n",
              "    }\n",
              "\n",
              "    .dataframe tbody tr th {\n",
              "        vertical-align: top;\n",
              "    }\n",
              "\n",
              "    .dataframe thead th {\n",
              "        text-align: right;\n",
              "    }\n",
              "</style>\n",
              "<table border=\"1\" class=\"dataframe\">\n",
              "  <thead>\n",
              "    <tr style=\"text-align: right;\">\n",
              "      <th></th>\n",
              "      <th>0</th>\n",
              "    </tr>\n",
              "  </thead>\n",
              "  <tbody>\n",
              "    <tr>\n",
              "      <th>periode_data</th>\n",
              "      <td>0</td>\n",
              "    </tr>\n",
              "    <tr>\n",
              "      <th>tahun</th>\n",
              "      <td>0</td>\n",
              "    </tr>\n",
              "    <tr>\n",
              "      <th>nama_provinsi</th>\n",
              "      <td>0</td>\n",
              "    </tr>\n",
              "    <tr>\n",
              "      <th>nama_kabupaten_kota</th>\n",
              "      <td>0</td>\n",
              "    </tr>\n",
              "    <tr>\n",
              "      <th>nama_kecamatan</th>\n",
              "      <td>0</td>\n",
              "    </tr>\n",
              "    <tr>\n",
              "      <th>nama_kelaurahan</th>\n",
              "      <td>0</td>\n",
              "    </tr>\n",
              "    <tr>\n",
              "      <th>pendidikan</th>\n",
              "      <td>0</td>\n",
              "    </tr>\n",
              "    <tr>\n",
              "      <th>jenis_kelamin</th>\n",
              "      <td>0</td>\n",
              "    </tr>\n",
              "    <tr>\n",
              "      <th>jumlah_penduduk</th>\n",
              "      <td>0</td>\n",
              "    </tr>\n",
              "  </tbody>\n",
              "</table>\n",
              "</div><br><label><b>dtype:</b> int64</label>"
            ]
          },
          "metadata": {},
          "execution_count": 42
        }
      ]
    },
    {
      "cell_type": "markdown",
      "source": [
        "Melihat Outlier"
      ],
      "metadata": {
        "id": "GZXy7APawxIS"
      }
    },
    {
      "cell_type": "code",
      "source": [
        "import matplotlib.pyplot as plt\n",
        "import seaborn as sns\n",
        "\n",
        "# Visualize outliers in df_pendidikan (numerical columns)\n",
        "plt.figure(figsize=(10, 6))\n",
        "sns.boxplot(data=df_pendidikan.select_dtypes(include=['int64', 'float64']))\n",
        "plt.title('Box Plot of Numerical Columns in df_pendidikan')\n",
        "plt.show()\n",
        "\n",
        "# Visualize outliers in df_usia (numerical columns)\n",
        "plt.figure(figsize=(10, 6))\n",
        "sns.boxplot(data=df_usia.select_dtypes(include=['int64', 'float64']))\n",
        "plt.title('Box Plot of Numerical Columns in df_usia')\n",
        "plt.show()\n",
        "\n",
        "# Visualize outliers in df_ketenagakerjaan (numerical columns)\n",
        "plt.figure(figsize=(10, 6))\n",
        "sns.boxplot(data=df_ketenagakerjaan.select_dtypes(include=['int64', 'float64']))\n",
        "plt.title('Box Plot of Numerical Columns in df_ketenagakerjaan')\n",
        "plt.show()"
      ],
      "metadata": {
        "colab": {
          "base_uri": "https://localhost:8080/",
          "height": 1000
        },
        "id": "xFsOUXACwt3r",
        "outputId": "3a589d2d-2659-435c-ce9e-cb9447996f0a"
      },
      "execution_count": 43,
      "outputs": [
        {
          "output_type": "display_data",
          "data": {
            "text/plain": [
              "<Figure size 1000x600 with 1 Axes>"
            ],
            "image/png": "[encoded data removed]"
          },
          "metadata": {}
        },
        {
          "output_type": "display_data",
          "data": {
            "text/plain": [
              "<Figure size 1000x600 with 1 Axes>"
            ],
            "image/png": "[encoded data removed]"
          },
          "metadata": {}
        },
        {
          "output_type": "display_data",
          "data": {
            "text/plain": [
              "<Figure size 1000x600 with 1 Axes>"
            ],
            "image/png": "[encoded data removed]"
          },
          "metadata": {}
        }
      ]
    },
    {
      "cell_type": "code",
      "source": [
        "# Karena tujuan dari analisis ini adalah ingin tahu distribusi penduduk maka akan saya biarkan data Outlier"
      ],
      "metadata": {
        "id": "4Mb1PwQ2x9yw"
      },
      "execution_count": null,
      "outputs": []
    },
    {
      "cell_type": "code",
      "source": [
        "# Export df_pendidikan to a CSV file\n",
        "df_pendidikan.to_csv('df_pendidikan.csv', index=False)\n",
        "\n",
        "# Export df_usia to a CSV file\n",
        "df_usia.to_csv('df_usia.csv', index=False)\n",
        "\n",
        "# Export df_ketenagakerjaan to a CSV file\n",
        "df_ketenagakerjaan.to_csv('df_ketenagakerjaan.csv', index=False)\n",
        "\n",
        "print(\"Dataframes exported successfully!\")"
      ],
      "metadata": {
        "colab": {
          "base_uri": "https://localhost:8080/"
        },
        "id": "k5nPzIWTyTEG",
        "outputId": "e144cbda-af87-4602-a61b-6a80695877ec"
      },
      "execution_count": 44,
      "outputs": [
        {
          "output_type": "stream",
          "name": "stdout",
          "text": [
            "Dataframes exported successfully!\n"
          ]
        }
      ]
    }
  ]
}